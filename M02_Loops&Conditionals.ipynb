{
 "cells": [
  {
   "cell_type": "code",
   "execution_count": 1,
   "id": "9100343d",
   "metadata": {},
   "outputs": [
    {
     "name": "stdout",
     "output_type": "stream",
     "text": [
      "too high\n"
     ]
    }
   ],
   "source": [
    "secret = 4\n",
    "guess = 9\n",
    "\n",
    "if guess < secret:\n",
    "  print(\"too low\")\n",
    "elif guess > secret:\n",
    "  print(\"too high\")\n",
    "else:\n",
    "  print(\"just right\")"
   ]
  },
  {
   "cell_type": "code",
   "execution_count": 2,
   "id": "d8a72cdc",
   "metadata": {},
   "outputs": [
    {
     "name": "stdout",
     "output_type": "stream",
     "text": [
      "pea\n"
     ]
    }
   ],
   "source": [
    "small = True\n",
    "green = True\n",
    "\n",
    "if small and green:\n",
    "  print(\"pea\")\n",
    "elif small and not green:\n",
    "  print(\"cherry\")\n",
    "elif not small and green:\n",
    "  print(\"watermelon\")\n",
    "else:\n",
    "  print(\"pumkin\")"
   ]
  },
  {
   "cell_type": "code",
   "execution_count": 3,
   "id": "72eb7892",
   "metadata": {},
   "outputs": [
    {
     "name": "stdout",
     "output_type": "stream",
     "text": [
      "3\n",
      "2\n",
      "1\n",
      "0\n"
     ]
    }
   ],
   "source": [
    "list = [3, 2, 1, 0]\n",
    "\n",
    "for digit in list:\n",
    "  print(digit)"
   ]
  },
  {
   "cell_type": "code",
   "execution_count": 4,
   "id": "72d2f4ac",
   "metadata": {},
   "outputs": [
    {
     "name": "stdout",
     "output_type": "stream",
     "text": [
      "too low\n",
      "too low\n",
      "too low\n",
      "too low\n",
      "too low\n",
      "too low\n",
      "found it!\n"
     ]
    }
   ],
   "source": [
    "guess_me = 7\n",
    "number = 1\n",
    "\n",
    "while number <= guess_me:\n",
    "  if number < guess_me:\n",
    "    print(\"too low\")\n",
    "  elif number == guess_me:\n",
    "    print(\"found it!\")\n",
    "  else:\n",
    "    print(\"oops\")\n",
    "  number += 1"
   ]
  },
  {
   "cell_type": "code",
   "execution_count": 5,
   "id": "26c4ac7e",
   "metadata": {},
   "outputs": [
    {
     "name": "stdout",
     "output_type": "stream",
     "text": [
      "too low\n",
      "too low\n",
      "too low\n",
      "too low\n",
      "too low\n",
      "found it!\n"
     ]
    }
   ],
   "source": [
    "guess_me = 5\n",
    "for number in range(10):\n",
    "  if number < guess_me:\n",
    "    print(\"too low\")\n",
    "  elif number == guess_me:\n",
    "    print(\"found it!\")\n",
    "    break\n",
    "  else:\n",
    "    print(\"oops\")"
   ]
  },
  {
   "cell_type": "code",
   "execution_count": null,
   "id": "19160211",
   "metadata": {},
   "outputs": [],
   "source": []
  }
 ],
 "metadata": {
  "kernelspec": {
   "display_name": "Python 3 (ipykernel)",
   "language": "python",
   "name": "python3"
  },
  "language_info": {
   "codemirror_mode": {
    "name": "ipython",
    "version": 3
   },
   "file_extension": ".py",
   "mimetype": "text/x-python",
   "name": "python",
   "nbconvert_exporter": "python",
   "pygments_lexer": "ipython3",
   "version": "3.9.12"
  }
 },
 "nbformat": 4,
 "nbformat_minor": 5
}
