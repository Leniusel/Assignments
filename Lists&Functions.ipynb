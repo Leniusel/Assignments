{
 "cells": [
  {
   "cell_type": "code",
   "execution_count": 11,
   "id": "a3944e1a",
   "metadata": {},
   "outputs": [],
   "source": [
    "things = [\"mozzarella\", \"cinderella\", \"salmonella\"]"
   ]
  },
  {
   "cell_type": "code",
   "execution_count": 12,
   "id": "2cde546a",
   "metadata": {},
   "outputs": [
    {
     "name": "stdout",
     "output_type": "stream",
     "text": [
      "Cinderella\n",
      "['mozzarella', 'cinderella', 'salmonella']\n"
     ]
    }
   ],
   "source": [
    "print(things[1].capitalize()) #make person element capitalized\n",
    "print(things)                 #print list"
   ]
  },
  {
   "cell_type": "markdown",
   "id": "e9ba9862",
   "metadata": {},
   "source": [
    "Capitalizing 'cinderella' did not change the element in the list."
   ]
  },
  {
   "cell_type": "code",
   "execution_count": 13,
   "id": "b870998f",
   "metadata": {},
   "outputs": [
    {
     "name": "stdout",
     "output_type": "stream",
     "text": [
      "MOZZARELLA\n",
      "['mozzarella', 'cinderella', 'salmonella']\n"
     ]
    }
   ],
   "source": [
    "print(things[0].upper())     #Make cheesy element all uppercase\n",
    "print(things)                #Print list"
   ]
  },
  {
   "cell_type": "code",
   "execution_count": 14,
   "id": "c54ae15e",
   "metadata": {},
   "outputs": [
    {
     "name": "stdout",
     "output_type": "stream",
     "text": [
      "['mozzarella', 'cinderella', 'Nobel Prize']\n"
     ]
    }
   ],
   "source": [
    "things.pop()                  #Remove the disease element\n",
    "things.append(\"Nobel Prize\")  #Collect Noble Prize\n",
    "print(things)                 #Print list"
   ]
  },
  {
   "cell_type": "code",
   "execution_count": 15,
   "id": "82c07f58",
   "metadata": {},
   "outputs": [
    {
     "data": {
      "text/plain": [
       "['Harry', 'Ron', 'Hermione']"
      ]
     },
     "execution_count": 15,
     "metadata": {},
     "output_type": "execute_result"
    }
   ],
   "source": [
    "def good():\n",
    "  trio = [\"Harry\",\"Ron\",\"Hermione\"]\n",
    "  return trio\n",
    "good()"
   ]
  },
  {
   "cell_type": "code",
   "execution_count": 16,
   "id": "cffbb402",
   "metadata": {},
   "outputs": [
    {
     "name": "stdout",
     "output_type": "stream",
     "text": [
      "5\n"
     ]
    },
    {
     "data": {
      "text/plain": [
       "[1, 3, 5, 7, 9]"
      ]
     },
     "execution_count": 16,
     "metadata": {},
     "output_type": "execute_result"
    }
   ],
   "source": [
    "def get_odds():\n",
    "  oddlist = []\n",
    "  position = 0\n",
    "  \n",
    "  for i in range(10):\n",
    "    if not (i % 2 == 0):        #check for odd numbers\n",
    "      oddlist.append(i)         #store odd number in list            \n",
    "      if position == 2:         #print third value if position is filled\n",
    "        print(oddlist[2])\n",
    "      position = position + 1   #update position in list\n",
    "  return oddlist                #return all odd numbers in a list\n",
    "\n",
    "get_odds()"
   ]
  },
  {
   "cell_type": "code",
   "execution_count": null,
   "id": "6f2c89bc",
   "metadata": {},
   "outputs": [],
   "source": []
  }
 ],
 "metadata": {
  "kernelspec": {
   "display_name": "Python 3 (ipykernel)",
   "language": "python",
   "name": "python3"
  },
  "language_info": {
   "codemirror_mode": {
    "name": "ipython",
    "version": 3
   },
   "file_extension": ".py",
   "mimetype": "text/x-python",
   "name": "python",
   "nbconvert_exporter": "python",
   "pygments_lexer": "ipython3",
   "version": "3.9.12"
  }
 },
 "nbformat": 4,
 "nbformat_minor": 5
}
