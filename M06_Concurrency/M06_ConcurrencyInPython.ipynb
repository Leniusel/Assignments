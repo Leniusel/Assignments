{
 "cells": [
  {
   "cell_type": "code",
   "execution_count": 2,
   "id": "493781de",
   "metadata": {},
   "outputs": [],
   "source": [
    "import time\n",
    "import datetime\n",
    "import multiprocessing\n",
    "import random\n",
    "import os\n",
    "\n",
    "#13.1\n",
    "#Grab epoch\n",
    "now = time.time()\n",
    "#Convert it to spring\n",
    "date = time.ctime(now)\n",
    "#open today text file\n",
    "textfile = open(\"today.txt\", \"w\")\n",
    "#write into the text file\n",
    "textfile.write(date)\n",
    "#close filr\n",
    "textfile.close()"
   ]
  },
  {
   "cell_type": "code",
   "execution_count": 4,
   "id": "1087f7ae",
   "metadata": {},
   "outputs": [
    {
     "data": {
      "text/plain": [
       "'Wed Sep 28 22:02:05 2022'"
      ]
     },
     "execution_count": 4,
     "metadata": {},
     "output_type": "execute_result"
    }
   ],
   "source": [
    "#13.2\n",
    "#Reopen today text file\n",
    "textfile = open(\"today.txt\", \"r\")\n",
    "#Read file first line\n",
    "today_string = textfile.read()\n",
    "today_string"
   ]
  },
  {
   "cell_type": "code",
   "execution_count": 5,
   "id": "0ec2a559",
   "metadata": {},
   "outputs": [
    {
     "name": "stdout",
     "output_type": "stream",
     "text": [
      " The current date is September 28, 2022\n"
     ]
    }
   ],
   "source": [
    "#13.3\n",
    "#Outline the date format\n",
    "outline = \" The current date is %B %d, %Y\"\n",
    "#Read the string to convert to datetime\n",
    "reading = datetime.datetime.strptime(today_string,\"%a %b %d %H:%M:%S %Y\")\n",
    "#Put into tuple  \n",
    "tuple = reading.timetuple()\n",
    "#Convert string to epoch\n",
    "epoch = time.mktime(tuple)\n",
    "#convert to struct_time\n",
    "localtime = time.localtime(epoch)\n",
    "#Parse the struct_time to the outlined format\n",
    "parsed_date = time.strftime(outline, localtime)\n",
    "#Print the parsed date to check\n",
    "print(parsed_date)\n",
    "#Close the file\n",
    "textfile.close()"
   ]
  },
  {
   "cell_type": "code",
   "execution_count": 11,
   "id": "90760275",
   "metadata": {},
   "outputs": [],
   "source": [
    "#15.1\n",
    "#function to calculate the wait time before the program prints the current time\n",
    "def whattime(isit):\n",
    "    wait = random.uniform(0, 1)\n",
    "    process = os.getpid()\n",
    "    print(\"Process %s Wait Time is %s seconds: %s\" % (process, wait, isit))  \n",
    "    time.sleep(wait)\n",
    "\n",
    "#multiprocess\n",
    "if __name__ == \"__main__\":\n",
    "    #For three different process\n",
    "    for n in range(3):\n",
    "        #find the epoch and convert it to string\n",
    "        now = time.time()\n",
    "        date = time.ctime(now)\n",
    "        #state what being processed\n",
    "        p = multiprocessing.Process(target=whattime,\n",
    "          args=(\"Current time is %s\" % date,))\n",
    "        #start\n",
    "        p.start()\n",
    "#exit when done"
   ]
  },
  {
   "cell_type": "markdown",
   "id": "7cf8eb49",
   "metadata": {},
   "source": [
    "multiprocessing doesn't seem to work well with jupyter. It works with VS code though."
   ]
  },
  {
   "cell_type": "code",
   "execution_count": null,
   "id": "6e731480",
   "metadata": {},
   "outputs": [],
   "source": []
  }
 ],
 "metadata": {
  "kernelspec": {
   "display_name": "Python 3 (ipykernel)",
   "language": "python",
   "name": "python3"
  },
  "language_info": {
   "codemirror_mode": {
    "name": "ipython",
    "version": 3
   },
   "file_extension": ".py",
   "mimetype": "text/x-python",
   "name": "python",
   "nbconvert_exporter": "python",
   "pygments_lexer": "ipython3",
   "version": "3.9.12"
  }
 },
 "nbformat": 4,
 "nbformat_minor": 5
}
