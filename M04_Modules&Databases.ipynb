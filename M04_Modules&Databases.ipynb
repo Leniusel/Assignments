{
 "cells": [
  {
   "cell_type": "code",
   "execution_count": 2,
   "id": "f82b003d",
   "metadata": {},
   "outputs": [
    {
     "name": "stdout",
     "output_type": "stream",
     "text": [
      "Open 9-5 daily\n"
     ]
    }
   ],
   "source": [
    "import zoo         #import from zoo.py\n",
    "h = zoo.hours()    #call the hour function from zoo.py"
   ]
  },
  {
   "cell_type": "code",
   "execution_count": 3,
   "id": "2c37d836",
   "metadata": {},
   "outputs": [
    {
     "name": "stdout",
     "output_type": "stream",
     "text": [
      "Open 9-5 daily\n"
     ]
    }
   ],
   "source": [
    "import zoo as menagerie   #import zoo as menagerie\n",
    "mh = menagerie.hours()    #call menagerie's hours function"
   ]
  },
  {
   "cell_type": "code",
   "execution_count": 5,
   "id": "05bff415",
   "metadata": {},
   "outputs": [
    {
     "name": "stdout",
     "output_type": "stream",
     "text": [
      "('Half Prince',)\n",
      "('Overlord Volume 1',)\n",
      "('The Silver Chair',)\n"
     ]
    }
   ],
   "source": [
    "import sqlalchemy as sa          \n",
    "bookcase = sa.create_engine('sqlite:///books.db')            #connect to the sqlite3 books database\n",
    "b = sa.MetaData(bind = bookcase)                             #Make object\n",
    "sa.MetaData.reflect(b)\n",
    " \n",
    "book = b.tables['books']                                     #Search for the books table\n",
    "query = sa.select([book.c.title]).order_by(book.c.title)     #Select all from title column in the books table in alph. order\n",
    "\n",
    "title_list = bookcase.execute(query).fetchall()              #Execute select query\n",
    " \n",
    "for names in title_list:                                     #Print titles in alphabetical order\n",
    "    print(names)\n",
    "\n",
    "\n",
    "\n"
   ]
  },
  {
   "cell_type": "code",
   "execution_count": null,
   "id": "75ee931a",
   "metadata": {},
   "outputs": [],
   "source": []
  }
 ],
 "metadata": {
  "kernelspec": {
   "display_name": "Python 3 (ipykernel)",
   "language": "python",
   "name": "python3"
  },
  "language_info": {
   "codemirror_mode": {
    "name": "ipython",
    "version": 3
   },
   "file_extension": ".py",
   "mimetype": "text/x-python",
   "name": "python",
   "nbconvert_exporter": "python",
   "pygments_lexer": "ipython3",
   "version": "3.9.12"
  }
 },
 "nbformat": 4,
 "nbformat_minor": 5
}
